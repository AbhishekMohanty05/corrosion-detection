{
  "nbformat": 4,
  "nbformat_minor": 0,
  "metadata": {
    "colab": {
      "provenance": []
    },
    "kernelspec": {
      "name": "python3",
      "display_name": "Python 3"
    },
    "language_info": {
      "name": "python"
    }
  },
  "cells": [
    {
      "cell_type": "code",
      "execution_count": 1,
      "metadata": {
        "colab": {
          "base_uri": "https://localhost:8080/"
        },
        "id": "rwja-SnYBpzm",
        "outputId": "94bd42e8-8436-444f-94d6-2f685ecd454a"
      },
      "outputs": [
        {
          "output_type": "stream",
          "name": "stdout",
          "text": [
            "fatal: not a git repository (or any of the parent directories): .git\n"
          ]
        }
      ],
      "source": [
        "!git status"
      ]
    },
    {
      "cell_type": "code",
      "execution_count": null,
      "metadata": {
        "colab": {
          "base_uri": "https://localhost:8080/"
        },
        "id": "p0YhVpfVFF8w",
        "outputId": "c1919f2a-0c97-4e13-87dc-71a009d64e4c"
      },
      "outputs": [
        {
          "output_type": "stream",
          "name": "stdout",
          "text": [
            "Mounted at /content/drive\n"
          ]
        }
      ],
      "source": [
        "from google.colab import drive\n",
        "drive.mount('/content/drive')"
      ]
    },
    {
      "cell_type": "code",
      "source": [
        "import tensorflow as tf\n",
        "from tensorflow.keras.preprocessing.image import ImageDataGenerator\n",
        "from tensorflow.keras.applications import Xception\n",
        "from tensorflow.keras.layers import GlobalAveragePooling2D, Dense, Dropout\n",
        "from tensorflow.keras.models import Model\n",
        "from tensorflow.keras.callbacks import EarlyStopping, ModelCheckpoint\n",
        "from tensorflow.keras.activations import relu\n",
        "import os\n"
      ],
      "metadata": {
        "id": "BHr0XktEFZ1i"
      },
      "execution_count": null,
      "outputs": []
    },
    {
      "cell_type": "code",
      "source": [
        "from tensorflow.keras.preprocessing.image import ImageDataGenerator\n",
        "\n",
        "# Directories for training and validation data\n",
        "train_dir = '/content/drive/MyDrive/K-Pipelines-main/Standard/train'\n",
        "valid_dir = '/content/drive/MyDrive/K-Pipelines-main/Standard/valid'  # Separate validation directory\n",
        "\n",
        "# ImageDataGenerator for training (no validation split)\n",
        "train_datagen = ImageDataGenerator(\n",
        "    rescale=1./255,\n",
        "    horizontal_flip=True,\n",
        "    zoom_range=0.2,\n",
        "    rotation_range=20,\n",
        ")\n",
        "\n",
        "# ImageDataGenerator for validation (only rescaling)\n",
        "valid_datagen = ImageDataGenerator(rescale=1./255)\n",
        "\n",
        "# Training data generator\n",
        "train_generator = train_datagen.flow_from_directory(\n",
        "    train_dir,\n",
        "    target_size=(299, 299),  # Xception default size\n",
        "    batch_size=16,\n",
        "    class_mode='binary',\n",
        ")\n",
        "\n",
        "# Validation data generator (using the separate validation directory)\n",
        "validation_generator = valid_datagen.flow_from_directory(\n",
        "    valid_dir,\n",
        "    target_size=(299, 299),\n",
        "    batch_size=16,\n",
        "    class_mode='binary',\n",
        ")\n"
      ],
      "metadata": {
        "colab": {
          "base_uri": "https://localhost:8080/"
        },
        "id": "Dy0czxNZFceM",
        "outputId": "a4711a3f-e5bb-4f21-d5a6-f000d7f106ee"
      },
      "execution_count": null,
      "outputs": [
        {
          "output_type": "stream",
          "name": "stdout",
          "text": [
            "Found 480 images belonging to 2 classes.\n",
            "Found 60 images belonging to 2 classes.\n"
          ]
        }
      ]
    },
    {
      "cell_type": "code",
      "source": [
        "# Load the pre-trained Xception model without top layers\n",
        "base_model = Xception(weights='imagenet', include_top=False, input_shape=(299, 299, 3))\n",
        "\n",
        "# Freeze the base model layers\n",
        "for layer in base_model.layers:\n",
        "    layer.trainable = False\n",
        "\n",
        "# Add custom layers on top of the base model\n",
        "x = base_model.output\n",
        "x = GlobalAveragePooling2D()(x)\n",
        "x = Dense(512, activation=relu)(x)  # Mish activation for experimentation\n",
        "x = Dropout(0.5)(x)  # Dropout for regularization\n",
        "\n",
        "# Output layer for binary classification (1 output unit with sigmoid)\n",
        "predictions = Dense(1, activation='sigmoid')(x)\n",
        "\n",
        "# Final model\n",
        "model = Model(inputs=base_model.input, outputs=predictions)\n",
        "\n",
        "# Compile the model\n",
        "model.compile(optimizer='adam', loss='binary_crossentropy', metrics=['accuracy'])"
      ],
      "metadata": {
        "id": "0FE_QfVrFgX1"
      },
      "execution_count": null,
      "outputs": []
    },
    {
      "cell_type": "code",
      "source": [
        "# Define callbacks for early stopping and model checkpointing\n",
        "early_stopping = EarlyStopping(monitor='val_loss', patience=5, restore_best_weights=True)\n",
        "checkpoint = ModelCheckpoint('1024_relu_xception_model.keras', monitor='val_loss', save_best_only=True)\n",
        "\n",
        "# Train the model\n",
        "history = model.fit(\n",
        "    train_generator,\n",
        "    epochs=30,\n",
        "    validation_data=validation_generator,\n",
        "    callbacks=[early_stopping, checkpoint],\n",
        ")"
      ],
      "metadata": {
        "colab": {
          "base_uri": "https://localhost:8080/"
        },
        "id": "H338P70vFnPM",
        "outputId": "a5b1bbf6-b636-4c90-a34d-9f1b3a37c02d"
      },
      "execution_count": null,
      "outputs": [
        {
          "output_type": "stream",
          "name": "stderr",
          "text": [
            "/usr/local/lib/python3.11/dist-packages/keras/src/trainers/data_adapters/py_dataset_adapter.py:121: UserWarning: Your `PyDataset` class should call `super().__init__(**kwargs)` in its constructor. `**kwargs` can include `workers`, `use_multiprocessing`, `max_queue_size`. Do not pass these arguments to `fit()`, as they will be ignored.\n",
            "  self._warn_if_super_not_called()\n"
          ]
        },
        {
          "output_type": "stream",
          "name": "stdout",
          "text": [
            "Epoch 1/30\n",
            "\u001b[1m30/30\u001b[0m \u001b[32m━━━━━━━━━━━━━━━━━━━━\u001b[0m\u001b[37m\u001b[0m \u001b[1m72s\u001b[0m 2s/step - accuracy: 0.6405 - loss: 0.6051 - val_accuracy: 0.9000 - val_loss: 0.2915\n",
            "Epoch 2/30\n",
            "\u001b[1m30/30\u001b[0m \u001b[32m━━━━━━━━━━━━━━━━━━━━\u001b[0m\u001b[37m\u001b[0m \u001b[1m14s\u001b[0m 469ms/step - accuracy: 0.8644 - loss: 0.3244 - val_accuracy: 0.9333 - val_loss: 0.2355\n",
            "Epoch 3/30\n",
            "\u001b[1m30/30\u001b[0m \u001b[32m━━━━━━━━━━━━━━━━━━━━\u001b[0m\u001b[37m\u001b[0m \u001b[1m13s\u001b[0m 430ms/step - accuracy: 0.8513 - loss: 0.2933 - val_accuracy: 0.8667 - val_loss: 0.2936\n",
            "Epoch 4/30\n",
            "\u001b[1m30/30\u001b[0m \u001b[32m━━━━━━━━━━━━━━━━━━━━\u001b[0m\u001b[37m\u001b[0m \u001b[1m14s\u001b[0m 451ms/step - accuracy: 0.9336 - loss: 0.1936 - val_accuracy: 0.9500 - val_loss: 0.2151\n",
            "Epoch 5/30\n",
            "\u001b[1m30/30\u001b[0m \u001b[32m━━━━━━━━━━━━━━━━━━━━\u001b[0m\u001b[37m\u001b[0m \u001b[1m13s\u001b[0m 440ms/step - accuracy: 0.9456 - loss: 0.1374 - val_accuracy: 0.9000 - val_loss: 0.2222\n",
            "Epoch 6/30\n",
            "\u001b[1m30/30\u001b[0m \u001b[32m━━━━━━━━━━━━━━━━━━━━\u001b[0m\u001b[37m\u001b[0m \u001b[1m13s\u001b[0m 433ms/step - accuracy: 0.9438 - loss: 0.1510 - val_accuracy: 0.9333 - val_loss: 0.2306\n",
            "Epoch 7/30\n",
            "\u001b[1m30/30\u001b[0m \u001b[32m━━━━━━━━━━━━━━━━━━━━\u001b[0m\u001b[37m\u001b[0m \u001b[1m13s\u001b[0m 436ms/step - accuracy: 0.9507 - loss: 0.1513 - val_accuracy: 0.9333 - val_loss: 0.2296\n",
            "Epoch 8/30\n",
            "\u001b[1m30/30\u001b[0m \u001b[32m━━━━━━━━━━━━━━━━━━━━\u001b[0m\u001b[37m\u001b[0m \u001b[1m13s\u001b[0m 424ms/step - accuracy: 0.9497 - loss: 0.1381 - val_accuracy: 0.9167 - val_loss: 0.2308\n",
            "Epoch 9/30\n",
            "\u001b[1m30/30\u001b[0m \u001b[32m━━━━━━━━━━━━━━━━━━━━\u001b[0m\u001b[37m\u001b[0m \u001b[1m12s\u001b[0m 406ms/step - accuracy: 0.9325 - loss: 0.1567 - val_accuracy: 0.9167 - val_loss: 0.2523\n"
          ]
        }
      ]
    },
    {
      "cell_type": "code",
      "source": [
        "# Define the ImageDataGenerator for test data\n",
        "test_datagen = ImageDataGenerator(rescale=1./255)\n",
        "\n",
        "# Test data generator\n",
        "test_dir = '/content/drive/MyDrive/K-Pipelines-main/Standard/test'  # Update with your test data directory\n",
        "test_generator = test_datagen.flow_from_directory(\n",
        "    test_dir,\n",
        "    target_size=(299, 299),  # Same size used for training\n",
        "    batch_size=16,\n",
        "    class_mode='binary',\n",
        "    shuffle=False  # Important: Do not shuffle test data to keep order\n",
        ")"
      ],
      "metadata": {
        "colab": {
          "base_uri": "https://localhost:8080/"
        },
        "id": "UHo1rHp7HY0N",
        "outputId": "df6efb61-9020-49b1-9873-f78dff057d70"
      },
      "execution_count": null,
      "outputs": [
        {
          "output_type": "stream",
          "name": "stdout",
          "text": [
            "Found 60 images belonging to 2 classes.\n"
          ]
        }
      ]
    },
    {
      "cell_type": "code",
      "source": [
        "from tensorflow.keras.models import load_model\n",
        "import tensorflow as tf\n",
        "\n",
        "# Load the best model saved during training\n",
        "model = load_model('/content/1024_relu_xception_model.keras')\n",
        "\n",
        "# Recompile the model with AUC metric\n",
        "model.compile(optimizer='adam', loss='binary_crossentropy', metrics=['accuracy', 'AUC'])\n",
        "\n",
        "# Evaluate the model\n",
        "test_loss, test_accuracy, test_auc = model.evaluate(test_generator)\n",
        "\n",
        "# Print results\n",
        "print(f'Test Loss: {test_loss}')\n",
        "print(f'Test Accuracy: {test_accuracy}')\n",
        "print(f'Test AUC: {test_auc}')\n"
      ],
      "metadata": {
        "colab": {
          "base_uri": "https://localhost:8080/"
        },
        "id": "xJn0c6LGHdZX",
        "outputId": "4262f5b7-9e92-404d-aa24-1c9c17fff202"
      },
      "execution_count": null,
      "outputs": [
        {
          "output_type": "stream",
          "name": "stdout",
          "text": [
            "\u001b[1m4/4\u001b[0m \u001b[32m━━━━━━━━━━━━━━━━━━━━\u001b[0m\u001b[37m\u001b[0m \u001b[1m8s\u001b[0m 650ms/step - AUC: 0.7618 - accuracy: 0.7971 - loss: 0.3728\n",
            "Test Loss: 0.3376794159412384\n",
            "Test Accuracy: 0.800000011920929\n",
            "Test AUC: 0.9349277019500732\n"
          ]
        }
      ]
    },
    {
      "cell_type": "code",
      "source": [
        "# Define the ImageDataGenerator for test data\n",
        "test_datagen = ImageDataGenerator(rescale=1./255)\n",
        "\n",
        "# Test data generator\n",
        "test_dir = '/content/drive/MyDrive/K-Pipelines-main/Standard/test'  # Update with your test data directory\n",
        "test_generator = test_datagen.flow_from_directory(\n",
        "    test_dir,\n",
        "    target_size=(299, 299),  # Same size used for training\n",
        "    batch_size=16,\n",
        "    class_mode='binary',\n",
        "    shuffle=False  # Important: Do not shuffle test data to keep order\n",
        ")\n",
        "\n"
      ],
      "metadata": {
        "colab": {
          "base_uri": "https://localhost:8080/"
        },
        "id": "Q13e5J7YIn91",
        "outputId": "42d5cc9b-490a-4800-c7ff-fda72a87b788"
      },
      "execution_count": null,
      "outputs": [
        {
          "output_type": "stream",
          "name": "stdout",
          "text": [
            "Found 60 images belonging to 2 classes.\n"
          ]
        }
      ]
    },
    {
      "cell_type": "code",
      "source": [
        "from tensorflow.keras.models import load_model\n",
        "\n",
        "# Load the best model saved during training\n",
        "model = load_model('/content/1024_relu_xception_model.keras')\n",
        "\n",
        "\n"
      ],
      "metadata": {
        "id": "pBQkUe79Iy5O"
      },
      "execution_count": null,
      "outputs": []
    },
    {
      "cell_type": "code",
      "source": [
        "# Evaluate the model\n",
        "results = model.evaluate(test_generator)\n",
        "test_loss, test_accuracy = results  # Extract all three returned values\n",
        "\n",
        "# Print the results\n",
        "print(f'Test Loss: {test_loss}')\n",
        "print(f'Test Accuracy: {test_accuracy}')\n",
        "print(f'Test AUC: {test_auc}')"
      ],
      "metadata": {
        "colab": {
          "base_uri": "https://localhost:8080/"
        },
        "id": "Ju5siiuFKBjT",
        "outputId": "05465858-0d0d-4c4e-de2c-a9baa3ee5d1a"
      },
      "execution_count": null,
      "outputs": [
        {
          "output_type": "stream",
          "name": "stdout",
          "text": [
            "\u001b[1m4/4\u001b[0m \u001b[32m━━━━━━━━━━━━━━━━━━━━\u001b[0m\u001b[37m\u001b[0m \u001b[1m6s\u001b[0m 589ms/step - accuracy: 0.7971 - loss: 0.3728\n",
            "Test Loss: 0.3376794159412384\n",
            "Test Accuracy: 0.800000011920929\n",
            "Test AUC: 0.9349277019500732\n"
          ]
        }
      ]
    },
    {
      "cell_type": "code",
      "source": [
        "# Load and preprocess an image for prediction\n",
        "import numpy as np\n",
        "from tensorflow.keras.preprocessing import image\n",
        "\n",
        "def preprocess_image(img_path):\n",
        "    # Load the image\n",
        "    img = image.load_img(img_path, target_size=(299, 299))\n",
        "\n",
        "    # Convert the image to array\n",
        "    img_array = image.img_to_array(img)\n",
        "\n",
        "    # Expand dimensions to match the shape of data in the model\n",
        "    img_array = np.expand_dims(img_array, axis=0)\n",
        "\n",
        "    # Rescale the image\n",
        "    img_array /= 255.0\n",
        "\n",
        "    return img_array\n",
        "\n",
        "def predict_image(img_path):\n",
        "    # Preprocess the image\n",
        "    img_array = preprocess_image(img_path)\n",
        "\n",
        "    # Make a prediction\n",
        "    prediction = model.predict(img_array)\n",
        "\n",
        "    # Corrected condition based on class indices\n",
        "    if prediction[0] > 0.5:\n",
        "        return \"No Corrosion\"  # Class 1\n",
        "    else:\n",
        "        return \"Corrosion\"  # Class 0\n",
        "\n",
        "\n",
        "img_path = '/content/drive/MyDrive/K-Pipelines-main/Standard/train/corrosion/04a735c6-d0c5-4fe0-95d5-88e65d749c2e_png_jpg.rf.eeb48b3cd59920355a46a3d7d094db8b.jpg'\n",
        "result = predict_image(img_path)\n",
        "print(f\"The model predicts: {result}\")"
      ],
      "metadata": {
        "colab": {
          "base_uri": "https://localhost:8080/"
        },
        "id": "0_YRhXX9KGIt",
        "outputId": "0aa8aa48-1f4a-44cd-d387-c23bc43a0908"
      },
      "execution_count": null,
      "outputs": [
        {
          "output_type": "stream",
          "name": "stdout",
          "text": [
            "\u001b[1m1/1\u001b[0m \u001b[32m━━━━━━━━━━━━━━━━━━━━\u001b[0m\u001b[37m\u001b[0m \u001b[1m4s\u001b[0m 4s/step\n",
            "The model predicts: Corrosion\n"
          ]
        }
      ]
    },
    {
      "cell_type": "code",
      "source": [
        "import matplotlib.pyplot as plt\n",
        "import numpy as np\n",
        "from sklearn.metrics import classification_report, confusion_matrix\n",
        "\n",
        "#Confusion Matrix & Classification Report\n",
        "y_true = test_generator.classes  # True labels\n",
        "y_pred_probs = model.predict(test_generator)  # Predicted probabilities\n",
        "y_pred = (y_pred_probs > 0.5).astype(int)  # Convert probabilities to class labels\n",
        "\n",
        "# Confusion Matrix\n",
        "cm = confusion_matrix(y_true, y_pred)\n",
        "print(\"Confusion Matrix:\")\n",
        "print(cm)\n",
        "\n",
        "# Classification Report\n",
        "report = classification_report(y_true, y_pred, target_names=[\"No corrosion\", \"Corrosion\"])\n",
        "print(\"Classification Report:\")\n",
        "print(report)\n",
        "\n",
        "# Plot Loss and Accuracy Curves\n",
        "def plot_training_history(history):\n",
        "    acc = history.history['accuracy']\n",
        "    val_acc = history.history['val_accuracy']\n",
        "    loss = history.history['loss']\n",
        "    val_loss = history.history['val_loss']\n",
        "    epochs = range(1, len(acc) + 1)\n",
        "\n",
        "    # Plot Training & Validation Accuracy\n",
        "    plt.figure(figsize=(12, 5))\n",
        "    plt.subplot(1, 2, 1)\n",
        "    plt.plot(epochs, acc, 'b', label='Training Accuracy')\n",
        "    plt.plot(epochs, val_acc, 'r', label='Validation Accuracy')\n",
        "    plt.xlabel('Epochs')\n",
        "    plt.ylabel('Accuracy')\n",
        "    plt.title('Training & Validation Accuracy')\n",
        "    plt.legend()\n",
        "\n",
        "    # Plot Training & Validation Loss\n",
        "    plt.subplot(1, 2, 2)\n",
        "    plt.plot(epochs, loss, 'b', label='Training Loss')\n",
        "    plt.plot(epochs, val_loss, 'r', label='Validation Loss')\n",
        "    plt.xlabel('Epochs')\n",
        "    plt.ylabel('Loss')\n",
        "    plt.title('Training & Validation Loss')\n",
        "    plt.legend()\n",
        "\n",
        "    plt.show()\n",
        "\n",
        "# Call function to plot graphs\n",
        "plot_training_history(history)\n",
        "\n",
        "# Final Training & Validation Accuracy and Loss\n",
        "final_train_loss = history.history['loss'][-1]\n",
        "final_train_acc = history.history['accuracy'][-1]\n",
        "final_val_loss = history.history['val_loss'][-1]\n",
        "final_val_acc = history.history['val_accuracy'][-1]\n",
        "\n",
        "print(f\"Final Training Loss: {final_train_loss:.4f}\")\n",
        "print(f\"Final Training Accuracy: {final_train_acc:.4f}\")\n",
        "print(f\"Final Validation Loss: {final_val_loss:.4f}\")\n",
        "print(f\"Final Validation Accuracy: {final_val_acc:.4f}\")\n"
      ],
      "metadata": {
        "colab": {
          "base_uri": "https://localhost:8080/",
          "height": 814
        },
        "id": "mfqiGzL8LH3m",
        "outputId": "e95ed83c-05fb-4191-b47c-db4fd8bd79d4"
      },
      "execution_count": null,
      "outputs": [
        {
          "output_type": "stream",
          "name": "stdout",
          "text": [
            "\u001b[1m4/4\u001b[0m \u001b[32m━━━━━━━━━━━━━━━━━━━━\u001b[0m\u001b[37m\u001b[0m \u001b[1m1s\u001b[0m 114ms/step\n",
            "Confusion Matrix:\n",
            "[[24  7]\n",
            " [ 5 24]]\n",
            "Classification Report:\n",
            "              precision    recall  f1-score   support\n",
            "\n",
            "No corrosion       0.83      0.77      0.80        31\n",
            "   Corrosion       0.77      0.83      0.80        29\n",
            "\n",
            "    accuracy                           0.80        60\n",
            "   macro avg       0.80      0.80      0.80        60\n",
            "weighted avg       0.80      0.80      0.80        60\n",
            "\n"
          ]
        },
        {
          "output_type": "display_data",
          "data": {
            "text/plain": [
              "<Figure size 1200x500 with 2 Axes>"
            ],
            "image/png": "[encoded data removed]"
          },
          "metadata": {}
        },
        {
          "output_type": "stream",
          "name": "stdout",
          "text": [
            "Final Training Loss: 0.1729\n",
            "Final Training Accuracy: 0.9354\n",
            "Final Validation Loss: 0.2523\n",
            "Final Validation Accuracy: 0.9167\n"
          ]
        }
      ]
    },
    {
      "cell_type": "code",
      "source": [
        "print(train_generator.class_indices)"
      ],
      "metadata": {
        "colab": {
          "base_uri": "https://localhost:8080/"
        },
        "id": "h2gfDNRSwWLb",
        "outputId": "8af45aaf-7463-4eb8-e4a5-0ed8c49be4da"
      },
      "execution_count": null,
      "outputs": [
        {
          "output_type": "stream",
          "name": "stdout",
          "text": [
            "{'corrosion': 0, 'no_corrosion': 1}\n"
          ]
        }
      ]
    }
  ]
}